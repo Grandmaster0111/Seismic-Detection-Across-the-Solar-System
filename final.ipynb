{
 "cells": [
  {
   "cell_type": "markdown",
   "id": "9421dffb-1c82-4b0a-a572-4a32088c7115",
   "metadata": {},
   "source": [
    "## Import libraries"
   ]
  },
  {
   "cell_type": "code",
   "execution_count": 25,
   "id": "8a3a51c4-00ec-4aa7-9afe-9894f34587a4",
   "metadata": {},
   "outputs": [],
   "source": [
    "import numpy as np\n",
    "import pandas as pd\n",
    "from obspy import read\n",
    "from datetime import datetime, timedelta\n",
    "import matplotlib.pyplot as plt\n",
    "from sklearn.model_selection import train_test_split\n",
    "from sklearn.metrics import classification_report, confusion_matrix\n",
    "from sklearn.preprocessing import StandardScaler\n",
    "from tensorflow import keras\n",
    "from tensorflow.keras import layers\n",
    "import os"
   ]
  },
  {
   "cell_type": "code",
   "execution_count": 26,
   "id": "271f489a-f1b8-4145-a5e6-8e355b7a8a22",
   "metadata": {},
   "outputs": [],
   "source": [
    "cat_directory = './data/lunar/training/catalogs/'\n",
    "cat_file = cat_directory + 'apollo12_catalog_GradeA_final.csv'\n",
    "cat = pd.read_csv(cat_file)\n",
    "cat"
   ]
  },
  {
   "cell_type": "markdown",
   "id": "e4cfd8e1-9da1-4279-9442-c00f0600ac17",
   "metadata": {},
   "source": [
    "## Read the CSV file corresponding to that detection and plot it\n"
   ]
  },
  {
   "cell_type": "code",
   "execution_count": null,
   "id": "42391326-0009-4e70-9945-d9d7cd33bd71",
   "metadata": {},
   "outputs": [],
   "source": [
    "import os\n",
    "import numpy as np\n",
    "import pandas as pd\n",
    "import matplotlib.pyplot as plt\n",
    "from datetime import datetime\n",
    "\n",
    "def list_csv_files(directory):\n",
    "    try:\n",
    "        csv_file_names = [os.path.splitext(f)[0] for f in os.listdir(directory) \n",
    "                          if f.endswith('.csv') and os.path.isfile(os.path.join(directory, f))]\n",
    "        return csv_file_names\n",
    "    except Exception as e:\n",
    "        print(f\"An error occurred: {e}\")\n",
    "        return []\n",
    "\n",
    "data_directory = './data/lunar/training/data/S12_GradeA/'\n",
    "files = list_csv_files(data_directory)\n",
    "\n",
    "for tf in files:\n",
    "    csv_file = f'{data_directory}{tf}.csv'\n",
    "    \n",
    "    # Assuming 'cat' is a DataFrame that you've defined elsewhere\n",
    "    try:\n",
    "        index = cat.iloc[cat.index[cat['filename'] == tf].tolist()[0]]\n",
    "    except IndexError:\n",
    "        print(f\"Filename '{tf}' not found in 'cat' DataFrame.\")\n",
    "        continue  # Skip this iteration if the index is not found\n",
    "\n",
    "    it = index['time_rel(sec)']\n",
    "    \n",
    "    # Read the data\n",
    "    data_cat = pd.read_csv(csv_file)\n",
    "    \n",
    "    # Convert time strings to datetime objects\n",
    "    csv_times_dt = np.array(data_cat['time_rel(sec)'].tolist())\n",
    "    \n",
    "    csv_data = np.array(data_cat['velocity(m/s)'].tolist())\n",
    "    \n",
    "    # Create a new figure for each plot\n",
    "    plt.figure(figsize=(10, 5))  # Adjust figure size as needed\n",
    "    \n",
    "    # Plot the trace\n",
    "    plt.plot(csv_times_dt, csv_data, label='Velocity')\n",
    "    \n",
    "    # Make the plot pretty\n",
    "    plt.xlim((np.min(csv_times_dt), np.max(csv_times_dt)))\n",
    "    plt.ylabel('Velocity (m/s)')\n",
    "    plt.title(f'{tf}', fontweight='bold')\n",
    "    \n",
    "    # Plot where the arrival time is\n",
    "    arrival_line = plt.axvline(x=it, c='red', label='Rel. Arrival')\n",
    "    plt.legend(handles=[arrival_line])\n",
    "    \n",
    "    # Show the plot\n",
    "    plt.xlabel('Time (month-day hour)')\n",
    "    plt.tight_layout()  # Adjust layout to prevent overlap\n",
    "    plt.show()  # Display the current plot\n",
    "\n"
   ]
  },
  {
   "cell_type": "markdown",
   "id": "f3d579ce-73a0-4c7b-b8d0-29deac321c32",
   "metadata": {},
   "source": [
    "## Combining all data into for machine learning prediction"
   ]
  },
  {
   "cell_type": "code",
   "execution_count": null,
   "id": "82f26b8e-b1ae-4d98-aa2e-c8fe8cbe4d19",
   "metadata": {},
   "outputs": [],
   "source": [
    "def list_csv_files(directory):\n",
    "    try:\n",
    "        csv_file_names = [os.path.splitext(f)[0] for f in os.listdir(directory) \n",
    "                          if f.endswith('.csv') and os.path.isfile(os.path.join(directory, f))]\n",
    "        return csv_file_names\n",
    "    except Exception as e:\n",
    "        print(f\"An error occurred: {e}\")\n",
    "        return []\n",
    "\n",
    "data_directory = './data/lunar/training/data/S12_GradeA/'\n",
    "files = list_csv_files(data_directory)\n",
    "target_data = pd.read_csv(cat_file)\n",
    "\n",
    "\n",
    "# Initialize a DataFrame to hold combined data\n",
    "combined_data = pd.DataFrame()\n",
    "# Step 2: Load all seismic data files and merge\n",
    "for tf in files:\n",
    "    file = f'{data_directory}{tf}.csv'\n",
    "    df = pd.read_csv(file)\n",
    "    \n",
    "    # Merge target data (this assumes the 'filename' column in target_data)\n",
    "    target_row = target_data.loc[target_data['filename'] == tf]\n",
    "# print(len(tr))\n",
    "    # print(target_row['time_rel(sec)'].values[0])\n",
    "    # print(df['time_rel(sec)'].values[:])\n",
    "    if not target_row.empty:\n",
    "        # Add a new column for the event\n",
    "        for i in df['time_abs(%Y-%m-%dT%H:%M:%S.%f)'].values[:]:\n",
    "            df['event'] = 1 if target_row['time_abs(%Y-%m-%dT%H:%M:%S.%f)'][:-10] == i[:-10] else 0\n",
    "        combined_data = pd.concat([combined_data, df])\n",
    "\n",
    "# Step 3: Set the index to the time column and sort\n",
    "combined_data['time'] = pd.to_datetime(combined_data['time_abs(%Y-%m-%dT%H:%M:%S.%f)'])  # Adjust as necessary\n",
    "combined_data.set_index('time', inplace=True)\n",
    "combined_data.sort_index(inplace=True)\n",
    "combined_data"
   ]
  },
  {
   "cell_type": "markdown",
   "id": "bd2120f6-5498-4e24-b50f-518dd1f656f8",
   "metadata": {},
   "source": [
    "## Data splitting for model training"
   ]
  },
  {
   "cell_type": "code",
   "execution_count": null,
   "id": "9c5b2d23-743f-4700-9b51-727e2eada98d",
   "metadata": {},
   "outputs": [],
   "source": [
    "X = combined_data.drop(combined_data['event'])\n",
    "y = combined_data['event']\n",
    "X_train, X_test, y_train, y_test = train_test_split(X, y, test_size=0.2, random_state=42)"
   ]
  },
  {
   "cell_type": "markdown",
   "id": "08f69f40-b8b3-48c0-a2c9-91db4fcb2c22",
   "metadata": {},
   "source": [
    "## Using Random Forest "
   ]
  },
  {
   "cell_type": "code",
   "execution_count": null,
   "id": "702088e6-58eb-484b-b48f-69cd70d95c10",
   "metadata": {},
   "outputs": [],
   "source": [
    "import pandas as pd\n",
    "from sklearn.ensemble import RandomForestClassifier\n",
    "\n",
    "rf_classifier = RandomForestClassifier(n_estimators=100, random_state=42)\n",
    "\n",
    "rf_classifier.fit(X_train, y_train)\n",
    "\n",
    "y_pred = rf_classifier.predict(X_test)\n",
    "\n",
    "print(\"Confusion Matrix:\")\n",
    "print(confusion_matrix(y_test, y_pred))\n",
    " \n",
    "print(\"\\nClassification Report:\")\n",
    "print(classification_report(y_test, y_pred))\n"
   ]
  },
  {
   "cell_type": "markdown",
   "id": "e4b47417-2719-4d53-bae3-fd1146d0c52a",
   "metadata": {},
   "source": [
    "## Using Gradient Boosting"
   ]
  },
  {
   "cell_type": "code",
   "execution_count": null,
   "id": "cdacd64e-feff-4411-8680-e6fd5e667a65",
   "metadata": {},
   "outputs": [],
   "source": [
    "from xgboost import XGBClassifier\n",
    "\n",
    "xgb_classifier = XGBClassifier(use_label_encoder=False, eval_metric='logloss')\n",
    "\n",
    "xgb_classifier.fit(X_train, y_train)\n",
    "\n",
    "y_pred = xgb_classifier.predict(X_test)\n",
    "\n",
    "print(\"Confusion Matrix:\")\n",
    "print(confusion_matrix(y_test, y_pred))\n",
    "\n",
    "print(\"\\nClassification Report:\")\n",
    "print(classification_report(y_test, y_pred))\n"
   ]
  },
  {
   "cell_type": "markdown",
   "id": "74479757-46cd-4af4-b127-d88e23fef19d",
   "metadata": {},
   "source": [
    "## Using Support Vector Machine"
   ]
  },
  {
   "cell_type": "code",
   "execution_count": null,
   "id": "fd3142a8-12e8-4218-af75-fb85ef94956e",
   "metadata": {},
   "outputs": [],
   "source": [
    "from sklearn.svm import SVC\n",
    "\n",
    "svm_classifier = SVC(kernel='linear', random_state=42)\n",
    "\n",
    "svm_classifier.fit(X_train, y_train)\n",
    "\n",
    "y_pred = svm_classifier.predict(X_test)\n",
    "\n",
    "print(\"Confusion Matrix:\")\n",
    "print(confusion_matrix(y_test, y_pred))\n",
    "\n",
    "print(\"\\nClassification Report:\")\n",
    "print(classification_report(y_test, y_pred))\n",
    "\n"
   ]
  },
  {
   "cell_type": "code",
   "execution_count": null,
   "id": "0fbcaea4-84b6-4caf-8193-2f6ff4b57a11",
   "metadata": {},
   "outputs": [],
   "source": [
    "scaler = StandardScaler()\n",
    "X_train = scaler.fit_transform(X_train)\n",
    "X_test = scaler.transform(X_test)\n",
    "\n",
    "model = keras.Sequential([\n",
    "    layers.Input(shape=(X_train.shape[1],)),\n",
    "    layers.Dense(16, activation='relu'),  # Hidden layer with 16 neurons\n",
    "    layers.Dense(8, activation='relu'),   # Hidden layer with 8 neurons\n",
    "    layers.Dense(1, activation='sigmoid') # Output layer\n",
    "])\n",
    "\n",
    "model.compile(optimizer='adam', loss='binary_crossentropy', metrics=['accuracy'])\n",
    "\n",
    "model.fit(X_train, y_train, epochs=100, batch_size=5, verbose=1)\n",
    "\n",
    "# Make predictions\n",
    "y_pred = (model.predict(X_test) > 0.5).astype(\"int32\")\n",
    "\n",
    "# Evaluate the model\n",
    "print(\"Confusion Matrix:\")\n",
    "print(confusion_matrix(y_test, y_pred))\n",
    "\n",
    "print(\"\\nClassification Report:\")\n",
    "print(classification_report(y_test, y_pred))\n"
   ]
  }
 ],
 "metadata": {
  "kernelspec": {
   "display_name": "Python 3 (ipykernel)",
   "language": "python",
   "name": "python3"
  },
  "language_info": {
   "codemirror_mode": {
    "name": "ipython",
    "version": 3
   },
   "file_extension": ".py",
   "mimetype": "text/x-python",
   "name": "python",
   "nbconvert_exporter": "python",
   "pygments_lexer": "ipython3",
   "version": "3.12.5"
  }
 },
 "nbformat": 4,
 "nbformat_minor": 5
}
